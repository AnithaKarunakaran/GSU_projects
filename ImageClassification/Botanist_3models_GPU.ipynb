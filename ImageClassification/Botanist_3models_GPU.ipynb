{
 "cells": [
  {
   "cell_type": "markdown",
   "metadata": {},
   "source": [
    "# Botanist final project"
   ]
  },
  {
   "cell_type": "markdown",
   "metadata": {},
   "source": [
    "#### Load packages"
   ]
  },
  {
   "cell_type": "code",
   "execution_count": 24,
   "metadata": {},
   "outputs": [],
   "source": [
    "#pip uninstall keras\n",
    "#!pip install keras\n",
    "#!pip install tensorflow\n",
    "#!pip install sklearn"
   ]
  },
  {
   "cell_type": "code",
   "execution_count": 1,
   "metadata": {},
   "outputs": [],
   "source": [
    "import os\n",
    "import pandas as pd\n",
    "import numpy as np\n",
    "import matplotlib.pyplot as plt\n",
    "from sklearn.model_selection import train_test_split\n",
    "from sklearn.metrics import accuracy_score\n",
    "\n",
    "import keras\n",
    "from keras import backend as K\n",
    "from keras.preprocessing.image import ImageDataGenerator\n",
    "from keras.models import Sequential\n",
    "from keras.layers import Dense, Activation, Flatten, Dropout, BatchNormalization\n",
    "from keras.layers import Conv2D, MaxPooling2D\n",
    "from keras import regularizers, optimizers\n",
    "from keras.optimizers import RMSprop\n",
    "from keras import regularizers\n",
    "\n",
    "\n",
    "import tensorflow as tf\n",
    "import keras"
   ]
  },
  {
   "cell_type": "code",
   "execution_count": 2,
   "metadata": {},
   "outputs": [
    {
     "data": {
      "text/plain": [
       "'C:\\\\Users\\\\akarunakaran1\\\\Documents\\\\TypeB_Botanist'"
      ]
     },
     "execution_count": 2,
     "metadata": {},
     "output_type": "execute_result"
    }
   ],
   "source": [
    "#get working directory\n",
    "os. getcwd()"
   ]
  },
  {
   "cell_type": "code",
   "execution_count": 3,
   "metadata": {},
   "outputs": [
    {
     "data": {
      "text/plain": [
       "'/home/akarunakaran1/BotanistData'"
      ]
     },
     "execution_count": 3,
     "metadata": {},
     "output_type": "execute_result"
    }
   ],
   "source": [
    "#change working directory to\n",
    "#working_di_path = \"/home/akarunakaran1/BotanistData/\"\n",
    "#os. chdir(working_di_path)\n",
    "#os.getcwd()"
   ]
  },
  {
   "cell_type": "code",
   "execution_count": 3,
   "metadata": {},
   "outputs": [
    {
     "name": "stdout",
     "output_type": "stream",
     "text": [
      "Number of rows in .csv file is:  (50000, 2)\n",
      "Number of rows in .csv file is:  (4000, 1)\n"
     ]
    }
   ],
   "source": [
    "#read csv file\n",
    "#path in cluster\n",
    "#botanist_csv = pd.read_csv(\"/home/akarunakaran1/BotanistData/Botanist_Training_Set.csv\",dtype=str)\n",
    "#test_botanist_csv = pd.read_csv(\"/home/akarunakaran1/BotanistData/Botanist_Training_Set.csv\",dtype=str)\n",
    "\n",
    "#path in GPU\n",
    "botanist_csv = pd.read_csv(\"C:/Users/akarunakaran1/Documents/TypeB_Botanist/TypeB_Botanist/Botanist_Training_Set.csv\",dtype=str)\n",
    "print(\"Number of rows in .csv file is: \", botanist_csv.shape)\n",
    "\n",
    "\n",
    "test_botanist_csv = pd.read_csv(\"C:/Users/akarunakaran1/Documents/TypeB_Botanist/Botanist/Botanist_Test_Set.csv\",dtype=str)\n",
    "print(\"Number of rows in .csv file is: \", test_botanist_csv.shape)"
   ]
  },
  {
   "cell_type": "code",
   "execution_count": 4,
   "metadata": {},
   "outputs": [
    {
     "name": "stdout",
     "output_type": "stream",
     "text": [
      "Number of records for train 50000\n",
      "Number of records for test 4000\n"
     ]
    }
   ],
   "source": [
    "train = botanist_csv.copy()\n",
    "test = test_botanist_csv.copy()\n",
    "\n",
    "print(\"Number of records for train\", len(train))\n",
    "print(\"Number of records for test\", len(test))"
   ]
  },
  {
   "cell_type": "code",
   "execution_count": 6,
   "metadata": {},
   "outputs": [
    {
     "data": {
      "text/plain": [
       "Index(['FileName', 'Label'], dtype='object')"
      ]
     },
     "execution_count": 6,
     "metadata": {},
     "output_type": "execute_result"
    }
   ],
   "source": [
    "train.columns"
   ]
  },
  {
   "cell_type": "code",
   "execution_count": 8,
   "metadata": {},
   "outputs": [],
   "source": [
    "#append the Filename in .csv file with .jpg\n",
    "def append_ext(fn):\n",
    "    return fn+\".jpg\"\n",
    "\n",
    "train_df = train.copy()\n",
    "test_df = test.copy()"
   ]
  },
  {
   "cell_type": "code",
   "execution_count": 9,
   "metadata": {},
   "outputs": [
    {
     "name": "stdout",
     "output_type": "stream",
     "text": [
      "       FileName Label\n",
      "0  45945143.jpg     6\n",
      "1  91233284.jpg    25\n",
      "2   3082537.jpg    17\n",
      "3  13822720.jpg     7\n",
      "4  17579915.jpg    25\n"
     ]
    }
   ],
   "source": [
    "train_df[\"FileName\"] = train_df[\"FileName\"].apply(append_ext)\n",
    "print(train_df.head(5))"
   ]
  },
  {
   "cell_type": "code",
   "execution_count": 10,
   "metadata": {},
   "outputs": [
    {
     "name": "stdout",
     "output_type": "stream",
     "text": [
      "       FileName\n",
      "0  64559325.jpg\n",
      "1  52439467.jpg\n",
      "2   1336013.jpg\n",
      "3  77778059.jpg\n",
      "4  28148617.jpg\n"
     ]
    }
   ],
   "source": [
    "test_df[\"FileName\"] = test_df[\"FileName\"].apply(append_ext)\n",
    "print(test_df.head(5))"
   ]
  },
  {
   "cell_type": "code",
   "execution_count": 11,
   "metadata": {},
   "outputs": [],
   "source": [
    "#object for ImageDataGenerator\n",
    "datagen = ImageDataGenerator(rescale=1./255.,validation_split=0.25)"
   ]
  },
  {
   "cell_type": "code",
   "execution_count": 13,
   "metadata": {},
   "outputs": [
    {
     "name": "stdout",
     "output_type": "stream",
     "text": [
      "Found 37500 validated image filenames belonging to 38 classes.\n",
      "Found 12500 validated image filenames belonging to 38 classes.\n"
     ]
    }
   ],
   "source": [
    "#setting \n",
    "#batch_size = 32\n",
    "#seed = 42\n",
    "\n",
    "#split into train-validation data\n",
    "train_generator = datagen.flow_from_dataframe( dataframe=train_df, \n",
    "                                              directory=\"C:/Users/akarunakaran1/Documents/TypeB_Botanist/TypeB_Botanist/TrainFiles/\",\n",
    "                                              x_col=\"FileName\",y_col=\"Label\",subset=\"training\",batch_size=32,seed=42,shuffle=True,\n",
    "                                              class_mode=\"categorical\",target_size=(32,32))\n",
    "\n",
    "valid_generator = datagen.flow_from_dataframe(dataframe=train_df, \n",
    "                                              directory=\"C:/Users/akarunakaran1/Documents/TypeB_Botanist/TypeB_Botanist/TrainFiles/\",\n",
    "                                              x_col=\"FileName\",y_col=\"Label\",subset=\"validation\",batch_size=32,seed=42,shuffle=True,\n",
    "                                              class_mode=\"categorical\",target_size=(32,32))"
   ]
  },
  {
   "cell_type": "markdown",
   "metadata": {},
   "source": [
    "## Model without any regularization"
   ]
  },
  {
   "cell_type": "code",
   "execution_count": 14,
   "metadata": {},
   "outputs": [],
   "source": [
    "#fit model without regularization\n",
    "def wo_regularization():\n",
    "    model = Sequential()\n",
    "    model.add(Conv2D(32, (3, 3), padding='same',input_shape=(32,32,3)))\n",
    "    model.add(Activation('relu'))\n",
    "    model.add(Conv2D(32, (3, 3)))\n",
    "    model.add(Activation('relu'))\n",
    "    model.add(MaxPooling2D(pool_size=(2, 2)))\n",
    "    model.add(Dropout(0.25))\n",
    "    model.add(Conv2D(64, (3, 3), padding='same'))\n",
    "    model.add(Activation('relu'))\n",
    "    model.add(Conv2D(64, (3, 3)))\n",
    "    model.add(Activation('relu'))\n",
    "    model.add(MaxPooling2D(pool_size=(2, 2)))\n",
    "    model.add(Dropout(0.25))\n",
    "    model.add(Flatten())\n",
    "    model.add(Dense(512))\n",
    "    model.add(Activation('relu'))\n",
    "    model.add(Dropout(0.5))\n",
    "    #we have 38 label classes\n",
    "    model.add(Dense(38, activation='softmax'))\n",
    "\n",
    "    # Compile model\n",
    "    model.compile(optimizers.RMSprop(lr=0.0001, decay=1e-6),\n",
    "                  loss=\"categorical_crossentropy\",metrics=[\"accuracy\"])\n",
    "    return model"
   ]
  },
  {
   "cell_type": "code",
   "execution_count": 15,
   "metadata": {},
   "outputs": [
    {
     "name": "stderr",
     "output_type": "stream",
     "text": [
      "C:\\Users\\akarunakaran1\\Documents\\Anaconda\\lib\\site-packages\\tensorflow\\python\\keras\\engine\\training.py:1844: UserWarning: `Model.fit_generator` is deprecated and will be removed in a future version. Please use `Model.fit`, which supports generators.\n",
      "  warnings.warn('`Model.fit_generator` is deprecated and '\n"
     ]
    },
    {
     "name": "stdout",
     "output_type": "stream",
     "text": [
      "Epoch 1/10\n",
      "1171/1171 [==============================] - 228s 193ms/step - loss: 3.0190 - accuracy: 0.2155 - val_loss: 1.8100 - val_accuracy: 0.4941\n",
      "Epoch 2/10\n",
      "1171/1171 [==============================] - 226s 193ms/step - loss: 1.8475 - accuracy: 0.4777 - val_loss: 1.2388 - val_accuracy: 0.6540\n",
      "Epoch 3/10\n",
      "1171/1171 [==============================] - 222s 190ms/step - loss: 1.3839 - accuracy: 0.6014 - val_loss: 0.9777 - val_accuracy: 0.7141\n",
      "Epoch 4/10\n",
      "1171/1171 [==============================] - 223s 190ms/step - loss: 1.1207 - accuracy: 0.6667 - val_loss: 0.8009 - val_accuracy: 0.7683\n",
      "Epoch 5/10\n",
      "1171/1171 [==============================] - 225s 192ms/step - loss: 0.9663 - accuracy: 0.7062 - val_loss: 0.6992 - val_accuracy: 0.7877\n",
      "Epoch 6/10\n",
      "1171/1171 [==============================] - 227s 194ms/step - loss: 0.8514 - accuracy: 0.7402 - val_loss: 0.6509 - val_accuracy: 0.8017\n",
      "Epoch 7/10\n",
      "1171/1171 [==============================] - 224s 191ms/step - loss: 0.7829 - accuracy: 0.7585 - val_loss: 0.6845 - val_accuracy: 0.7882\n",
      "Epoch 8/10\n",
      "1171/1171 [==============================] - 226s 193ms/step - loss: 0.7298 - accuracy: 0.7723 - val_loss: 0.5141 - val_accuracy: 0.8406\n",
      "Epoch 9/10\n",
      "1171/1171 [==============================] - 226s 193ms/step - loss: 0.6661 - accuracy: 0.7921 - val_loss: 0.4853 - val_accuracy: 0.8529\n",
      "Epoch 10/10\n",
      "1171/1171 [==============================] - 225s 192ms/step - loss: 0.6017 - accuracy: 0.8096 - val_loss: 0.4580 - val_accuracy: 0.8618\n"
     ]
    }
   ],
   "source": [
    "#setting values\n",
    "STEP_SIZE_TRAIN = train_generator.n//train_generator.batch_size\n",
    "STEP_SIZE_VALID = valid_generator.n//valid_generator.batch_size\n",
    "\n",
    "# build the model\n",
    "model_wo_reg = wo_regularization()\n",
    "\n",
    "#fitting the model\n",
    "history_wo_reg = model_wo_reg.fit_generator(generator=train_generator,steps_per_epoch=STEP_SIZE_TRAIN,\n",
    "                    validation_data=valid_generator,validation_steps=STEP_SIZE_VALID,epochs=10)"
   ]
  },
  {
   "cell_type": "code",
   "execution_count": 16,
   "metadata": {},
   "outputs": [
    {
     "data": {
      "image/png": "[encoded data removed]",
      "text/plain": [
       "<Figure size 432x288 with 1 Axes>"
      ]
     },
     "metadata": {
      "needs_background": "light"
     },
     "output_type": "display_data"
    }
   ],
   "source": [
    "#model_wo_reg\n",
    "\n",
    "# plot training history\n",
    "plt.plot(history_wo_reg.history['loss'], label='train')\n",
    "plt.plot(history_wo_reg.history['val_loss'], label='test')\n",
    "plt.title('Training and validation loss')\n",
    "plt.legend()\n",
    "plt.show()"
   ]
  },
  {
   "cell_type": "code",
   "execution_count": 61,
   "metadata": {},
   "outputs": [
    {
     "data": {
      "image/png": "[encoded data removed]",
      "text/plain": [
       "<Figure size 432x288 with 1 Axes>"
      ]
     },
     "metadata": {
      "needs_background": "light"
     },
     "output_type": "display_data"
    },
    {
     "data": {
      "image/png": "[encoded data removed]",
      "text/plain": [
       "<Figure size 432x288 with 1 Axes>"
      ]
     },
     "metadata": {
      "needs_background": "light"
     },
     "output_type": "display_data"
    }
   ],
   "source": [
    "acc = history_wo_reg.history['accuracy']\n",
    "val_acc = history_wo_reg.history['val_accuracy']\n",
    "loss = history_wo_reg.history['loss']\n",
    "val_loss = history_wo_reg.history['val_loss']\n",
    "\n",
    "epochs = range(1, len(acc) + 1)\n",
    "\n",
    "plt.plot(epochs, acc, label='Training acc')\n",
    "plt.plot(epochs, val_acc, label='Validation acc')\n",
    "plt.title('Training and validation accuracy')\n",
    "plt.ylabel('Accuracy')\n",
    "plt.xlabel('Epoch')\n",
    "plt.legend()\n",
    "\n",
    "plt.figure()\n",
    "\n",
    "plt.plot(epochs, loss, label='Training loss')\n",
    "plt.plot(epochs, val_loss, label='Validation loss')\n",
    "plt.title('Training and validation loss')\n",
    "plt.ylabel('Loss')\n",
    "plt.xlabel('Epoch')\n",
    "plt.legend()\n",
    "\n",
    "plt.show()"
   ]
  },
  {
   "cell_type": "code",
   "execution_count": 17,
   "metadata": {},
   "outputs": [],
   "source": [
    "# save model and architecture to single file\n",
    "model_wo_reg.save(\"./savedModel/withoutRegularization.h5\")"
   ]
  },
  {
   "cell_type": "code",
   "execution_count": 18,
   "metadata": {},
   "outputs": [],
   "source": [
    "#load model\n",
    "reload_history_wo_reg = keras.models.load_model('./savedModel/withoutRegularization.h5', custom_objects={'tf': tf})"
   ]
  },
  {
   "cell_type": "code",
   "execution_count": 19,
   "metadata": {},
   "outputs": [
    {
     "name": "stderr",
     "output_type": "stream",
     "text": [
      "C:\\Users\\akarunakaran1\\Documents\\Anaconda\\lib\\site-packages\\tensorflow\\python\\keras\\engine\\training.py:1877: UserWarning: `Model.evaluate_generator` is deprecated and will be removed in a future version. Please use `Model.evaluate`, which supports generators.\n",
      "  warnings.warn('`Model.evaluate_generator` is deprecated and '\n"
     ]
    },
    {
     "name": "stdout",
     "output_type": "stream",
     "text": [
      "Validation loss: 0.4580492079257965\n",
      "Validation accuracy: 0.8616987466812134\n"
     ]
    }
   ],
   "source": [
    "#evaluate against validation data\n",
    "score = reload_history_wo_reg.evaluate_generator(generator=valid_generator,steps=STEP_SIZE_VALID)\n",
    "print('Validation loss:', score[0])\n",
    "print('Validation accuracy:', score[1])"
   ]
  },
  {
   "cell_type": "markdown",
   "metadata": {},
   "source": [
    "## Model with L1 regularization"
   ]
  },
  {
   "cell_type": "code",
   "execution_count": 20,
   "metadata": {},
   "outputs": [],
   "source": [
    "#fit model with L1 regularization\n",
    "def w_L1_regularization():\n",
    "    model = Sequential()\n",
    "    model.add(Conv2D(32, (3, 3), padding='same',input_shape=(32,32,3)))\n",
    "    model.add(Activation('relu'))\n",
    "    model.add(Conv2D(32, (3, 3)))\n",
    "    model.add(Activation('relu'))\n",
    "    model.add(MaxPooling2D(pool_size=(2, 2)))\n",
    "    model.add(Dropout(0.25))\n",
    "    model.add(Dense(512, activation = 'relu',\n",
    "                    kernel_regularizer=regularizers.l1(0.0001)))\n",
    "    model.add(Conv2D(64, (3, 3), padding='same'))\n",
    "    model.add(Activation('relu'))\n",
    "    model.add(Conv2D(64, (3, 3)))\n",
    "    model.add(Activation('relu'))\n",
    "    model.add(MaxPooling2D(pool_size=(2, 2)))\n",
    "    model.add(Dropout(0.25))\n",
    "    model.add(Flatten())\n",
    "    model.add(Dense(512, activation = 'relu', \n",
    "                    kernel_regularizer=regularizers.l1(0.0001)))\n",
    "    model.add(Activation('relu'))\n",
    "    model.add(Dropout(0.5))\n",
    "    #we have 38 label classes\n",
    "    model.add(Dense(38, activation='softmax',\n",
    "                    kernel_regularizer=regularizers.l1(0.0001)))\n",
    "      \n",
    "    # Compile model\n",
    "    model.compile(optimizers.RMSprop(lr=0.0001, decay=1e-6),\n",
    "                  loss=\"categorical_crossentropy\",metrics=[\"accuracy\"])\n",
    "    return model"
   ]
  },
  {
   "cell_type": "code",
   "execution_count": 21,
   "metadata": {},
   "outputs": [
    {
     "name": "stdout",
     "output_type": "stream",
     "text": [
      "Epoch 1/10\n",
      "1171/1171 [==============================] - 393s 334ms/step - loss: 4.9756 - accuracy: 0.2122 - val_loss: 3.0705 - val_accuracy: 0.5013\n",
      "Epoch 2/10\n",
      "1171/1171 [==============================] - 388s 332ms/step - loss: 3.0396 - accuracy: 0.4974 - val_loss: 2.2014 - val_accuracy: 0.7007\n",
      "Epoch 3/10\n",
      "1171/1171 [==============================] - 388s 331ms/step - loss: 2.3516 - accuracy: 0.6363 - val_loss: 1.8435 - val_accuracy: 0.7584\n",
      "Epoch 4/10\n",
      "1171/1171 [==============================] - 388s 332ms/step - loss: 1.9933 - accuracy: 0.6982 - val_loss: 1.6209 - val_accuracy: 0.7896\n",
      "Epoch 5/10\n",
      "1171/1171 [==============================] - 390s 333ms/step - loss: 1.7681 - accuracy: 0.7312 - val_loss: 1.4524 - val_accuracy: 0.8066\n",
      "Epoch 6/10\n",
      "1171/1171 [==============================] - 390s 333ms/step - loss: 1.6135 - accuracy: 0.7539 - val_loss: 1.3301 - val_accuracy: 0.8275\n",
      "Epoch 7/10\n",
      "1171/1171 [==============================] - 391s 334ms/step - loss: 1.4850 - accuracy: 0.7719 - val_loss: 1.2625 - val_accuracy: 0.8316\n",
      "Epoch 8/10\n",
      "1171/1171 [==============================] - 390s 333ms/step - loss: 1.4038 - accuracy: 0.7860 - val_loss: 1.2460 - val_accuracy: 0.8218\n",
      "Epoch 9/10\n",
      "1171/1171 [==============================] - 388s 331ms/step - loss: 1.3290 - accuracy: 0.7942 - val_loss: 1.1344 - val_accuracy: 0.8449\n",
      "Epoch 10/10\n",
      "1171/1171 [==============================] - 388s 331ms/step - loss: 1.2615 - accuracy: 0.8052 - val_loss: 1.1009 - val_accuracy: 0.8498\n"
     ]
    }
   ],
   "source": [
    "#setting values\n",
    "STEP_SIZE_TRAIN = train_generator.n//train_generator.batch_size\n",
    "STEP_SIZE_VALID = valid_generator.n//valid_generator.batch_size\n",
    "\n",
    "# build the model\n",
    "model_w_L1_reg = w_L1_regularization()\n",
    "\n",
    "#fitting the model\n",
    "history_w_L1_reg = model_w_L1_reg.fit_generator(generator=train_generator,steps_per_epoch=STEP_SIZE_TRAIN,\n",
    "                    validation_data=valid_generator,validation_steps=STEP_SIZE_VALID,epochs=10)"
   ]
  },
  {
   "cell_type": "code",
   "execution_count": 22,
   "metadata": {},
   "outputs": [
    {
     "data": {
      "image/png": "[encoded data removed]",
      "text/plain": [
       "<Figure size 432x288 with 1 Axes>"
      ]
     },
     "metadata": {
      "needs_background": "light"
     },
     "output_type": "display_data"
    }
   ],
   "source": [
    "#model_w_l1_reg\n",
    "\n",
    "# plot training history\n",
    "plt.plot(history_w_L1_reg.history['loss'], label='train')\n",
    "plt.plot(history_w_L1_reg.history['val_loss'], label='test')\n",
    "plt.title('Training and validation loss')\n",
    "plt.legend()\n",
    "plt.show()"
   ]
  },
  {
   "cell_type": "code",
   "execution_count": 60,
   "metadata": {},
   "outputs": [
    {
     "data": {
      "image/png": "[encoded data removed]",
      "text/plain": [
       "<Figure size 432x288 with 1 Axes>"
      ]
     },
     "metadata": {
      "needs_background": "light"
     },
     "output_type": "display_data"
    },
    {
     "data": {
      "image/png": "[encoded data removed]",
      "text/plain": [
       "<Figure size 432x288 with 1 Axes>"
      ]
     },
     "metadata": {
      "needs_background": "light"
     },
     "output_type": "display_data"
    }
   ],
   "source": [
    "acc = history_w_L1_reg.history['accuracy']\n",
    "val_acc = history_w_L1_reg.history['val_accuracy']\n",
    "loss = history_w_L1_reg.history['loss']\n",
    "val_loss = history_w_L1_reg.history['val_loss']\n",
    "\n",
    "epochs = range(1, len(acc) + 1)\n",
    "\n",
    "plt.plot(epochs, acc, label='Training acc')\n",
    "plt.plot(epochs, val_acc, label='Validation acc')\n",
    "plt.title('Training and validation accuracy')\n",
    "plt.ylabel('Accuracy')\n",
    "plt.xlabel('Epoch')\n",
    "plt.legend()\n",
    "\n",
    "plt.figure()\n",
    "\n",
    "plt.plot(epochs, loss, label='Training loss')\n",
    "plt.plot(epochs, val_loss, label='Validation loss')\n",
    "plt.title('Training and validation loss')\n",
    "plt.ylabel('Loss')\n",
    "plt.xlabel('Epoch')\n",
    "plt.legend()\n",
    "\n",
    "plt.show()"
   ]
  },
  {
   "cell_type": "code",
   "execution_count": 23,
   "metadata": {},
   "outputs": [],
   "source": [
    "# save model and architecture to single file\n",
    "model_w_L1_reg.save(\"./savedModel/withL1Regularization.h5\")"
   ]
  },
  {
   "cell_type": "code",
   "execution_count": 24,
   "metadata": {},
   "outputs": [],
   "source": [
    "#load model\n",
    "reload_history_w_L1_reg = keras.models.load_model('./savedModel/withL1Regularization.h5', custom_objects={'tf': tf})"
   ]
  },
  {
   "cell_type": "code",
   "execution_count": 25,
   "metadata": {},
   "outputs": [
    {
     "name": "stdout",
     "output_type": "stream",
     "text": [
      "Validation loss: 1.1003550291061401\n",
      "Validation accuracy: 0.8501602411270142\n"
     ]
    }
   ],
   "source": [
    "#evaluate against validation data\n",
    "score = reload_history_w_L1_reg.evaluate_generator(generator=valid_generator,steps=STEP_SIZE_VALID)\n",
    "print('Validation loss:', score[0])\n",
    "print('Validation accuracy:', score[1])"
   ]
  },
  {
   "cell_type": "markdown",
   "metadata": {},
   "source": [
    "## Model with L2 regularization"
   ]
  },
  {
   "cell_type": "code",
   "execution_count": 26,
   "metadata": {},
   "outputs": [],
   "source": [
    "#fit model with L2 regularization\n",
    "def w_L2_regularization():\n",
    "    model = Sequential()\n",
    "    model.add(Conv2D(32, (3, 3), padding='same',input_shape=(32,32,3)))\n",
    "    model.add(Activation('relu'))\n",
    "    model.add(Conv2D(32, (3, 3)))\n",
    "    model.add(Activation('relu'))\n",
    "    model.add(MaxPooling2D(pool_size=(2, 2)))\n",
    "    model.add(Dropout(0.25))\n",
    "    model.add(Dense(512, activation = 'relu', \n",
    "                    kernel_regularizer=regularizers.l2(0.0001)))\n",
    "    model.add(Conv2D(64, (3, 3), padding='same'))\n",
    "    model.add(Activation('relu'))\n",
    "    model.add(Conv2D(64, (3, 3)))\n",
    "    model.add(Activation('relu'))\n",
    "    model.add(MaxPooling2D(pool_size=(2, 2)))\n",
    "    model.add(Dropout(0.25))\n",
    "    model.add(Flatten())\n",
    "    model.add(Dense(512, activation = 'relu', \n",
    "                    kernel_regularizer=regularizers.l2(0.0001)))\n",
    "    model.add(Activation('relu'))\n",
    "    model.add(Dropout(0.5))\n",
    "    #we have 38 label classes\n",
    "    model.add(Dense(38, activation='softmax',\n",
    "                    kernel_regularizer=regularizers.l2(0.0001)))\n",
    "      \n",
    "    # Compile model\n",
    "    model.compile(optimizers.RMSprop(lr=0.0001, decay=1e-6),\n",
    "                  loss=\"categorical_crossentropy\",metrics=[\"accuracy\"])\n",
    "    return model"
   ]
  },
  {
   "cell_type": "code",
   "execution_count": 27,
   "metadata": {},
   "outputs": [
    {
     "name": "stdout",
     "output_type": "stream",
     "text": [
      "Epoch 1/10\n",
      "1171/1171 [==============================] - 382s 325ms/step - loss: 3.1109 - accuracy: 0.2056 - val_loss: 1.6702 - val_accuracy: 0.5552\n",
      "Epoch 2/10\n",
      "1171/1171 [==============================] - 381s 325ms/step - loss: 1.7263 - accuracy: 0.5286 - val_loss: 1.0420 - val_accuracy: 0.7177\n",
      "Epoch 3/10\n",
      "1171/1171 [==============================] - 382s 326ms/step - loss: 1.2078 - accuracy: 0.6613 - val_loss: 0.8771 - val_accuracy: 0.7554\n",
      "Epoch 4/10\n",
      "1171/1171 [==============================] - 381s 326ms/step - loss: 0.9796 - accuracy: 0.7240 - val_loss: 0.6964 - val_accuracy: 0.8115\n",
      "Epoch 5/10\n",
      "1171/1171 [==============================] - 379s 324ms/step - loss: 0.8813 - accuracy: 0.7541 - val_loss: 0.6305 - val_accuracy: 0.8322\n",
      "Epoch 6/10\n",
      "1171/1171 [==============================] - 381s 325ms/step - loss: 0.7862 - accuracy: 0.7777 - val_loss: 0.6224 - val_accuracy: 0.8326\n",
      "Epoch 7/10\n",
      "1171/1171 [==============================] - 381s 325ms/step - loss: 0.7200 - accuracy: 0.8044 - val_loss: 0.5486 - val_accuracy: 0.8569\n",
      "Epoch 8/10\n",
      "1171/1171 [==============================] - 380s 325ms/step - loss: 0.6915 - accuracy: 0.8088 - val_loss: 0.4993 - val_accuracy: 0.8737\n",
      "Epoch 9/10\n",
      "1171/1171 [==============================] - 380s 324ms/step - loss: 0.6383 - accuracy: 0.8279 - val_loss: 0.4899 - val_accuracy: 0.8731\n",
      "Epoch 10/10\n",
      "1171/1171 [==============================] - 380s 324ms/step - loss: 0.6123 - accuracy: 0.8336 - val_loss: 0.5191 - val_accuracy: 0.8676\n"
     ]
    }
   ],
   "source": [
    "#setting values\n",
    "STEP_SIZE_TRAIN = train_generator.n//train_generator.batch_size\n",
    "STEP_SIZE_VALID = valid_generator.n//valid_generator.batch_size\n",
    "\n",
    "# build the model\n",
    "model_w_L2_reg = w_L2_regularization()\n",
    "\n",
    "#fitting the model\n",
    "history_w_L2_reg = model_w_L2_reg.fit_generator(generator=train_generator,steps_per_epoch=STEP_SIZE_TRAIN,\n",
    "                    validation_data=valid_generator,validation_steps=STEP_SIZE_VALID,epochs=10)"
   ]
  },
  {
   "cell_type": "code",
   "execution_count": 59,
   "metadata": {},
   "outputs": [
    {
     "data": {
      "image/png": "[encoded data removed]",
      "text/plain": [
       "<Figure size 432x288 with 1 Axes>"
      ]
     },
     "metadata": {
      "needs_background": "light"
     },
     "output_type": "display_data"
    }
   ],
   "source": [
    "#model_w_l2_reg\n",
    "\n",
    "# plot training history\n",
    "plt.plot(history_w_L2_reg.history['loss'], label='train')\n",
    "plt.plot(history_w_L2_reg.history['val_loss'], label='test')\n",
    "plt.title('Training and validation loss')\n",
    "plt.legend()\n",
    "plt.show()"
   ]
  },
  {
   "cell_type": "code",
   "execution_count": 58,
   "metadata": {},
   "outputs": [
    {
     "data": {
      "image/png": "[encoded data removed]",
      "text/plain": [
       "<Figure size 432x288 with 1 Axes>"
      ]
     },
     "metadata": {
      "needs_background": "light"
     },
     "output_type": "display_data"
    },
    {
     "data": {
      "image/png": "[encoded data removed]",
      "text/plain": [
       "<Figure size 432x288 with 1 Axes>"
      ]
     },
     "metadata": {
      "needs_background": "light"
     },
     "output_type": "display_data"
    }
   ],
   "source": [
    "acc = history_w_L2_reg.history['accuracy']\n",
    "val_acc = history_w_L2_reg.history['val_accuracy']\n",
    "loss = history_w_L2_reg.history['loss']\n",
    "val_loss = history_w_L2_reg.history['val_loss']\n",
    "\n",
    "epochs = range(1, len(acc) + 1)\n",
    "\n",
    "plt.plot(epochs, acc, label='Training acc')\n",
    "plt.plot(epochs, val_acc, label='Validation acc')\n",
    "plt.title('Training and validation accuracy')\n",
    "plt.ylabel('Accuracy')\n",
    "plt.xlabel('Epoch')\n",
    "plt.legend()\n",
    "\n",
    "plt.figure()\n",
    "\n",
    "plt.plot(epochs, loss, label='Training loss')\n",
    "plt.plot(epochs, val_loss, label='Validation loss')\n",
    "plt.title('Training and validation loss')\n",
    "plt.ylabel('Loss')\n",
    "plt.xlabel('Epoch')\n",
    "plt.legend()\n",
    "\n",
    "plt.show()"
   ]
  },
  {
   "cell_type": "code",
   "execution_count": 29,
   "metadata": {},
   "outputs": [],
   "source": [
    "# save model and architecture to single file\n",
    "model_w_L2_reg.save(\"./savedModel/withL2Regularization.h5\")"
   ]
  },
  {
   "cell_type": "code",
   "execution_count": 30,
   "metadata": {},
   "outputs": [],
   "source": [
    "#load model\n",
    "reload_history_w_L2_reg = keras.models.load_model('./savedModel/withL2Regularization.h5', custom_objects={'tf': tf})"
   ]
  },
  {
   "cell_type": "code",
   "execution_count": 31,
   "metadata": {},
   "outputs": [
    {
     "name": "stdout",
     "output_type": "stream",
     "text": [
      "Validation loss: 0.5189948678016663\n",
      "Validation accuracy: 0.8676282167434692\n"
     ]
    }
   ],
   "source": [
    "#evaluate against validation data\n",
    "score = reload_history_w_L2_reg.evaluate_generator(generator=valid_generator,steps=STEP_SIZE_VALID)\n",
    "print('Validation loss:', score[0])\n",
    "print('Validation accuracy:', score[1])"
   ]
  },
  {
   "cell_type": "markdown",
   "metadata": {},
   "source": [
    "## Now let's predict the labels for test data"
   ]
  },
  {
   "cell_type": "code",
   "execution_count": 32,
   "metadata": {},
   "outputs": [
    {
     "name": "stdout",
     "output_type": "stream",
     "text": [
      "Found 4000 validated image filenames.\n"
     ]
    }
   ],
   "source": [
    "#test generator\n",
    "test_datagen = ImageDataGenerator(rescale=1./255.)\n",
    "\n",
    "test_generator = datagen.flow_from_dataframe(dataframe=test_df, \n",
    "                                             directory=\"C:/Users/akarunakaran1/Documents/TypeB_Botanist/Botanist/TestFiles/\",\n",
    "                                             x_col=\"FileName\",y_col=None,batch_size=32,seed=42,shuffle=False,\n",
    "                                             class_mode=None,target_size=(32,32)                                            )"
   ]
  },
  {
   "cell_type": "code",
   "execution_count": 33,
   "metadata": {},
   "outputs": [
    {
     "data": {
      "text/plain": [
       "125"
      ]
     },
     "execution_count": 33,
     "metadata": {},
     "output_type": "execute_result"
    }
   ],
   "source": [
    "test_generator.reset()\n",
    "STEP_SIZE_TEST = test_generator.n//test_generator.batch_size\n",
    "STEP_SIZE_TEST"
   ]
  },
  {
   "cell_type": "markdown",
   "metadata": {},
   "source": [
    "## Accuracy of model with regularization L2 is better, so make predictions using this model"
   ]
  },
  {
   "cell_type": "code",
   "execution_count": 38,
   "metadata": {},
   "outputs": [
    {
     "name": "stderr",
     "output_type": "stream",
     "text": [
      "C:\\Users\\akarunakaran1\\Documents\\Anaconda\\lib\\site-packages\\tensorflow\\python\\keras\\engine\\training.py:1905: UserWarning: `Model.predict_generator` is deprecated and will be removed in a future version. Please use `Model.predict`, which supports generators.\n",
      "  warnings.warn('`Model.predict_generator` is deprecated and '\n"
     ]
    },
    {
     "name": "stdout",
     "output_type": "stream",
     "text": [
      "125/125 [==============================] - 13s 98ms/step\n",
      "4000\n",
      "predictions on test data [[3.5483282e-08 5.3457524e-07 3.6809686e-06 ... 1.5899888e-06\n",
      "  1.5237842e-06 3.0382779e-08]\n",
      " [7.8203222e-08 2.5852823e-03 7.8354625e-04 ... 1.9685853e-02\n",
      "  1.4880294e-04 6.7346252e-04]\n",
      " [1.2519877e-10 9.2495002e-06 4.6493567e-10 ... 1.4774336e-08\n",
      "  1.1031329e-08 1.5831212e-08]\n",
      " ...\n",
      " [8.4066434e-12 2.4786621e-07 5.5035471e-04 ... 4.0818165e-11\n",
      "  5.2144815e-04 2.1484661e-06]\n",
      " [1.0785582e-17 9.9999988e-01 3.4069900e-09 ... 8.2402027e-13\n",
      "  4.7375180e-11 7.3058665e-08]\n",
      " [4.3375039e-05 2.6767491e-04 5.7294792e-06 ... 5.7947309e-05\n",
      "  2.5615471e-05 1.4557944e-05]]\n",
      "predicted_class_indices [21 18 17 ... 20  1 29]\n"
     ]
    }
   ],
   "source": [
    "#prediction using model with L2 regularization\n",
    "pred = reload_history_w_L2_reg.predict_generator(test_generator,steps=STEP_SIZE_TEST,verbose=1)\n",
    "print(len(pred))\n",
    "print(\"predictions on test data\",pred)\n",
    "\n",
    "predicted_class_indices = np.argmax(pred,axis=1)\n",
    "print(\"predicted_class_indices\",predicted_class_indices)"
   ]
  },
  {
   "cell_type": "code",
   "execution_count": 41,
   "metadata": {},
   "outputs": [
    {
     "data": {
      "text/plain": [
       "array([21, 18, 17, ..., 20,  1, 29], dtype=int64)"
      ]
     },
     "execution_count": 41,
     "metadata": {},
     "output_type": "execute_result"
    }
   ],
   "source": [
    "predicted_class_indices"
   ]
  },
  {
   "cell_type": "code",
   "execution_count": 43,
   "metadata": {},
   "outputs": [
    {
     "data": {
      "text/plain": [
       "4000"
      ]
     },
     "execution_count": 43,
     "metadata": {},
     "output_type": "execute_result"
    }
   ],
   "source": [
    "#assigning corresponding labels to test data\n",
    "labels = (train_generator.class_indices)\n",
    "labels = dict((v,k) for k,v in labels.items())\n",
    "predictions = [labels[k] for k in predicted_class_indices]\n",
    "len(predictions)"
   ]
  },
  {
   "cell_type": "code",
   "execution_count": 46,
   "metadata": {},
   "outputs": [
    {
     "name": "stdout",
     "output_type": "stream",
     "text": [
      "  Label\n",
      "0    29\n",
      "1    26\n",
      "2    25\n",
      "3    16\n",
      "4    35\n"
     ]
    }
   ],
   "source": [
    "#creating dataframe with filename and prediction values\n",
    "\n",
    "results = pd.DataFrame({\"Label\":predictions})\n",
    "print(results.head(5))"
   ]
  },
  {
   "cell_type": "code",
   "execution_count": 49,
   "metadata": {},
   "outputs": [
    {
     "name": "stdout",
     "output_type": "stream",
     "text": [
      "Working directory C:\\Users\\akarunakaran1\\Documents\\TypeB_Botanist\n"
     ]
    }
   ],
   "source": [
    "print(\"Working directory\",os.getcwd())\n",
    "\n",
    "#save result\n",
    "results.to_csv(\"B.csv\",index=False)"
   ]
  },
  {
   "cell_type": "code",
   "execution_count": 47,
   "metadata": {},
   "outputs": [
    {
     "name": "stdout",
     "output_type": "stream",
     "text": [
      "Working directory C:\\Users\\akarunakaran1\\Documents\\TypeB_Botanist\n"
     ]
    }
   ],
   "source": [
    "print(\"Working directory\",os.getcwd())\n"
   ]
  },
  {
   "cell_type": "markdown",
   "metadata": {},
   "source": [
    "#### REFERENCES:\n",
    "+ https://vijayabhaskar96.medium.com/tutorial-on-keras-flow-from-dataframe-1fd4493d237c\n",
    "+ https://www.kaggle.com/yassineghouzam/introduction-to-cnn-keras-0-997-top-6\n",
    "+ https://stackoverflow.com/questions/62218611/how-to-train-a-model-with-a-dataset-in-which-image-dataset-is-given-and-label-fo\n",
    "+ https://studymachinelearning.com/keras-imagedatagenerator-with-flow_from_dataframe/\n",
    "+ https://www.analyticsvidhya.com/blog/2018/04/fundamentals-deep-learning-regularization-techniques/\n",
    "+ https://stackoverflow.com/questions/44813662/keras-unexpected-kernel-regularizer-error"
   ]
  }
 ],
 "metadata": {
  "kernelspec": {
   "display_name": "Python 3",
   "language": "python",
   "name": "python3"
  },
  "language_info": {
   "codemirror_mode": {
    "name": "ipython",
    "version": 3
   },
   "file_extension": ".py",
   "mimetype": "text/x-python",
   "name": "python",
   "nbconvert_exporter": "python",
   "pygments_lexer": "ipython3",
   "version": "3.8.5"
  }
 },
 "nbformat": 4,
 "nbformat_minor": 4
}
