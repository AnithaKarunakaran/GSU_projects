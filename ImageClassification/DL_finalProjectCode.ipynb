{
 "cells": [
  {
   "cell_type": "markdown",
   "metadata": {},
   "source": [
    "# Deep Learning final project"
   ]
  },
  {
   "cell_type": "markdown",
   "metadata": {},
   "source": [
    "#### Load packages"
   ]
  },
  {
   "cell_type": "code",
   "execution_count": 24,
   "metadata": {},
   "outputs": [],
   "source": [
    "#pip uninstall keras\n",
    "#!pip install keras\n",
    "#!pip install tensorflow\n",
    "#!pip install sklearn"
   ]
  },
  {
   "cell_type": "code",
   "execution_count": 101,
   "metadata": {},
   "outputs": [],
   "source": [
    "import os\n",
    "import pandas as pd\n",
    "import numpy as np\n",
    "import matplotlib.pyplot as plt\n",
    "from sklearn.model_selection import train_test_split\n",
    "from sklearn.metrics import accuracy_score\n",
    "\n",
    "import keras\n",
    "from keras import backend as K\n",
    "from keras.preprocessing.image import ImageDataGenerator\n",
    "from keras.models import Sequential\n",
    "from keras.layers import Dense, Activation, Flatten, Dropout, BatchNormalization\n",
    "from keras.layers import Conv2D, MaxPooling2D\n",
    "from keras import regularizers, optimizers\n",
    "from keras.optimizers import RMSprop"
   ]
  },
  {
   "cell_type": "code",
   "execution_count": 102,
   "metadata": {},
   "outputs": [
    {
     "data": {
      "text/plain": [
       "'/home/akarunakaran1/BotanistData'"
      ]
     },
     "execution_count": 102,
     "metadata": {},
     "output_type": "execute_result"
    }
   ],
   "source": [
    "#get working directory\n",
    "os. getcwd()"
   ]
  },
  {
   "cell_type": "code",
   "execution_count": 54,
   "metadata": {},
   "outputs": [
    {
     "data": {
      "text/plain": [
       "'/home/akarunakaran1/BotanistData'"
      ]
     },
     "execution_count": 54,
     "metadata": {},
     "output_type": "execute_result"
    }
   ],
   "source": [
    "#change working directory to\n",
    "working_di_path = \"/home/akarunakaran1/BotanistData/\"\n",
    "os. chdir(working_di_path)\n",
    "os.getcwd()"
   ]
  },
  {
   "cell_type": "code",
   "execution_count": 103,
   "metadata": {},
   "outputs": [
    {
     "name": "stdout",
     "output_type": "stream",
     "text": [
      "Number of rows in .csv file is:  (50000, 2)\n"
     ]
    }
   ],
   "source": [
    "#read csv file\n",
    "botanist_csv = pd.read_csv(\"/home/akarunakaran1/BotanistData/Botanist_Training_Set.csv\",dtype=str)\n",
    "print(\"Number of rows in .csv file is: \", botanist_csv.shape)"
   ]
  },
  {
   "cell_type": "code",
   "execution_count": 104,
   "metadata": {},
   "outputs": [
    {
     "name": "stdout",
     "output_type": "stream",
     "text": [
      "Number of records for train 45000\n",
      "Number of records for test 5000\n"
     ]
    }
   ],
   "source": [
    "#split into train and test data\n",
    "train, test = train_test_split(botanist_csv, test_size=0.1)\n",
    "print(\"Number of records for train\", len(train))\n",
    "print(\"Number of records for test\", len(test))"
   ]
  },
  {
   "cell_type": "code",
   "execution_count": 32,
   "metadata": {},
   "outputs": [
    {
     "data": {
      "text/plain": [
       "Index(['FileName', 'Label'], dtype='object')"
      ]
     },
     "execution_count": 32,
     "metadata": {},
     "output_type": "execute_result"
    }
   ],
   "source": [
    "train.columns"
   ]
  },
  {
   "cell_type": "code",
   "execution_count": 105,
   "metadata": {},
   "outputs": [],
   "source": [
    "#append the Filename in .csv file with .jpg\n",
    "def append_ext(fn):\n",
    "    return fn+\".jpg\"\n",
    "\n",
    "train_df = train.copy()\n",
    "test_df = test.copy()"
   ]
  },
  {
   "cell_type": "code",
   "execution_count": 106,
   "metadata": {},
   "outputs": [
    {
     "name": "stdout",
     "output_type": "stream",
     "text": [
      "           FileName Label\n",
      "17988  45475314.jpg    26\n",
      "6838   75420537.jpg    11\n",
      "3612   28844103.jpg    25\n",
      "648    51844002.jpg    20\n",
      "32978  26973763.jpg     7\n",
      "           FileName Label\n",
      "12805  76528282.jpg    11\n",
      "19020  13689463.jpg    34\n",
      "22850  77606856.jpg    17\n",
      "37423  35148993.jpg    33\n",
      "37330  69622618.jpg     7\n"
     ]
    }
   ],
   "source": [
    "train_df[\"FileName\"] = train_df[\"FileName\"].apply(append_ext)\n",
    "print(train_df.head(5))\n",
    "\n",
    "test_df[\"FileName\"] = test_df[\"FileName\"].apply(append_ext)\n",
    "print(test_df.head(5))"
   ]
  },
  {
   "cell_type": "code",
   "execution_count": 107,
   "metadata": {},
   "outputs": [],
   "source": [
    "#object for ImageDataGenerator\n",
    "datagen = ImageDataGenerator(rescale=1./255.,validation_split=0.25)"
   ]
  },
  {
   "cell_type": "code",
   "execution_count": 108,
   "metadata": {},
   "outputs": [
    {
     "name": "stdout",
     "output_type": "stream",
     "text": [
      "Found 33750 validated image filenames belonging to 38 classes.\n",
      "Found 11250 validated image filenames belonging to 38 classes.\n"
     ]
    }
   ],
   "source": [
    "#setting \n",
    "#batch_size = 32\n",
    "#seed = 42\n",
    "\n",
    "#split into train-validation data\n",
    "train_generator = datagen.flow_from_dataframe( dataframe=train_df, \n",
    "                                              directory=\"/home/akarunakaran1/BotanistData/Trainfiles/\",\n",
    "                                              x_col=\"FileName\",y_col=\"Label\",subset=\"training\",batch_size=32,seed=42,shuffle=True,\n",
    "                                              class_mode=\"categorical\",target_size=(32,32))\n",
    "\n",
    "valid_generator = datagen.flow_from_dataframe(dataframe=train_df, \n",
    "                                              directory=\"/home/akarunakaran1/BotanistData/Trainfiles/\",\n",
    "                                              x_col=\"FileName\",y_col=\"Label\",subset=\"validation\",batch_size=32,seed=42,shuffle=True,\n",
    "                                              class_mode=\"categorical\",target_size=(32,32))"
   ]
  },
  {
   "cell_type": "code",
   "execution_count": 109,
   "metadata": {},
   "outputs": [],
   "source": [
    "#fit model\n",
    "model = Sequential()\n",
    "model.add(Conv2D(32, (3, 3), padding='same',input_shape=(32,32,3)))\n",
    "model.add(Activation('relu'))\n",
    "model.add(Conv2D(32, (3, 3)))\n",
    "model.add(Activation('relu'))\n",
    "model.add(MaxPooling2D(pool_size=(2, 2)))\n",
    "model.add(Dropout(0.25))\n",
    "model.add(Conv2D(64, (3, 3), padding='same'))\n",
    "model.add(Activation('relu'))\n",
    "model.add(Conv2D(64, (3, 3)))\n",
    "model.add(Activation('relu'))\n",
    "model.add(MaxPooling2D(pool_size=(2, 2)))\n",
    "model.add(Dropout(0.25))\n",
    "model.add(Flatten())\n",
    "model.add(Dense(512))\n",
    "model.add(Activation('relu'))\n",
    "model.add(Dropout(0.5))\n",
    "#we have 38 label classes\n",
    "model.add(Dense(38, activation='softmax'))\n",
    "\n",
    "# Compile model\n",
    "model.compile(optimizers.RMSprop(lr=0.0001, decay=1e-6),\n",
    "              loss=\"categorical_crossentropy\",metrics=[\"accuracy\"])"
   ]
  },
  {
   "cell_type": "code",
   "execution_count": 110,
   "metadata": {},
   "outputs": [
    {
     "name": "stderr",
     "output_type": "stream",
     "text": [
      "/home/akarunakaran1/.local/lib/python3.8/site-packages/tensorflow/python/keras/engine/training.py:1844: UserWarning: `Model.fit_generator` is deprecated and will be removed in a future version. Please use `Model.fit`, which supports generators.\n",
      "  warnings.warn('`Model.fit_generator` is deprecated and '\n"
     ]
    },
    {
     "name": "stdout",
     "output_type": "stream",
     "text": [
      "Epoch 1/10\n",
      "1054/1054 [==============================] - 326s 308ms/step - loss: 3.0818 - accuracy: 0.1919 - val_loss: 1.9274 - val_accuracy: 0.4647\n",
      "Epoch 2/10\n",
      "1054/1054 [==============================] - 163s 155ms/step - loss: 1.9476 - accuracy: 0.4542 - val_loss: 1.3543 - val_accuracy: 0.6178\n",
      "Epoch 3/10\n",
      "1054/1054 [==============================] - 160s 152ms/step - loss: 1.4581 - accuracy: 0.5785 - val_loss: 1.0246 - val_accuracy: 0.7056\n",
      "Epoch 4/10\n",
      "1054/1054 [==============================] - 160s 152ms/step - loss: 1.2117 - accuracy: 0.6412 - val_loss: 0.8435 - val_accuracy: 0.7541\n",
      "Epoch 5/10\n",
      "1054/1054 [==============================] - 159s 151ms/step - loss: 1.0351 - accuracy: 0.6852 - val_loss: 0.7683 - val_accuracy: 0.7715\n",
      "Epoch 6/10\n",
      "1054/1054 [==============================] - 165s 156ms/step - loss: 0.9256 - accuracy: 0.7188 - val_loss: 0.6781 - val_accuracy: 0.7926\n",
      "Epoch 7/10\n",
      "1054/1054 [==============================] - 163s 155ms/step - loss: 0.8496 - accuracy: 0.7422 - val_loss: 0.6189 - val_accuracy: 0.8133\n",
      "Epoch 8/10\n",
      "1054/1054 [==============================] - 161s 153ms/step - loss: 0.7564 - accuracy: 0.7655 - val_loss: 0.5688 - val_accuracy: 0.8240\n",
      "Epoch 9/10\n",
      "1054/1054 [==============================] - 162s 154ms/step - loss: 0.7142 - accuracy: 0.7791 - val_loss: 0.5303 - val_accuracy: 0.8374\n",
      "Epoch 10/10\n",
      "1054/1054 [==============================] - 164s 156ms/step - loss: 0.6674 - accuracy: 0.7919 - val_loss: 0.4964 - val_accuracy: 0.8477\n"
     ]
    },
    {
     "data": {
      "text/plain": [
       "<tensorflow.python.keras.callbacks.History at 0x7f4f448e65e0>"
      ]
     },
     "execution_count": 110,
     "metadata": {},
     "output_type": "execute_result"
    }
   ],
   "source": [
    "#setting values\n",
    "STEP_SIZE_TRAIN = train_generator.n//train_generator.batch_size\n",
    "STEP_SIZE_VALID = valid_generator.n//valid_generator.batch_size\n",
    "\n",
    "#fitting the model\n",
    "model.fit_generator(generator=train_generator,steps_per_epoch=STEP_SIZE_TRAIN,\n",
    "                    validation_data=valid_generator,validation_steps=STEP_SIZE_VALID,epochs=10)"
   ]
  },
  {
   "cell_type": "code",
   "execution_count": 111,
   "metadata": {},
   "outputs": [
    {
     "name": "stderr",
     "output_type": "stream",
     "text": [
      "/home/akarunakaran1/.local/lib/python3.8/site-packages/tensorflow/python/keras/engine/training.py:1877: UserWarning: `Model.evaluate_generator` is deprecated and will be removed in a future version. Please use `Model.evaluate`, which supports generators.\n",
      "  warnings.warn('`Model.evaluate_generator` is deprecated and '\n"
     ]
    },
    {
     "name": "stdout",
     "output_type": "stream",
     "text": [
      "Test loss: 0.4969847500324249\n",
      "Test accuracy: 0.8475783467292786\n"
     ]
    }
   ],
   "source": [
    "#evaluate against validation data\n",
    "score = model.evaluate_generator(generator=valid_generator,steps=STEP_SIZE_VALID)\n",
    "print('Test loss:', score[0])\n",
    "print('Test accuracy:', score[1])"
   ]
  },
  {
   "cell_type": "code",
   "execution_count": 112,
   "metadata": {},
   "outputs": [
    {
     "name": "stdout",
     "output_type": "stream",
     "text": [
      "Found 1250 validated image filenames belonging to 38 classes.\n"
     ]
    }
   ],
   "source": [
    "#test generator\n",
    "test_datagen = ImageDataGenerator(rescale=1./255.)\n",
    "\n",
    "test_generator = datagen.flow_from_dataframe(dataframe=test_df, directory=\"/home/akarunakaran1/BotanistData/Trainfiles/\",\n",
    "                                             x_col=\"FileName\",y_col=\"Label\",subset=\"validation\",batch_size=2,seed=42,shuffle=False,\n",
    "                                             class_mode=\"categorical\",target_size=(32,32))"
   ]
  },
  {
   "cell_type": "code",
   "execution_count": 113,
   "metadata": {},
   "outputs": [
    {
     "data": {
      "text/plain": [
       "625"
      ]
     },
     "execution_count": 113,
     "metadata": {},
     "output_type": "execute_result"
    }
   ],
   "source": [
    "test_generator.reset()\n",
    "STEP_SIZE_TEST = test_generator.n//test_generator.batch_size\n",
    "STEP_SIZE_TEST"
   ]
  },
  {
   "cell_type": "code",
   "execution_count": 114,
   "metadata": {},
   "outputs": [
    {
     "name": "stderr",
     "output_type": "stream",
     "text": [
      "/home/akarunakaran1/.local/lib/python3.8/site-packages/tensorflow/python/keras/engine/training.py:1905: UserWarning: `Model.predict_generator` is deprecated and will be removed in a future version. Please use `Model.predict`, which supports generators.\n",
      "  warnings.warn('`Model.predict_generator` is deprecated and '\n"
     ]
    },
    {
     "name": "stdout",
     "output_type": "stream",
     "text": [
      "625/625 [==============================] - 13s 21ms/step\n",
      "1250\n",
      "predictions on test data [[6.91463763e-04 1.68432493e-03 3.68226141e-01 ... 5.05015603e-04\n",
      "  1.54414281e-01 2.77566258e-04]\n",
      " [2.04891970e-04 3.65200670e-09 1.85727607e-04 ... 7.26991057e-05\n",
      "  5.66264043e-06 1.63769101e-07]\n",
      " [1.11551285e-01 8.24605286e-06 3.18547990e-03 ... 2.33017560e-03\n",
      "  8.38558096e-03 1.46670820e-04]\n",
      " ...\n",
      " [3.57120916e-05 3.95739221e-07 1.94174372e-05 ... 1.86047598e-03\n",
      "  4.90963794e-06 1.82916352e-07]\n",
      " [1.03989134e-06 9.23319399e-01 6.06155314e-04 ... 1.58049977e-06\n",
      "  1.60980606e-04 2.47811414e-02]\n",
      " [1.26086780e-10 2.22576645e-12 4.17999619e-12 ... 1.75431717e-06\n",
      "  5.96850347e-12 1.25386914e-11]]\n",
      "predicted_class_indices [18 27  8 ...  7  1 31]\n"
     ]
    }
   ],
   "source": [
    "#prediction\n",
    "pred = model.predict_generator(test_generator,steps=STEP_SIZE_TEST,verbose=1)\n",
    "print(len(pred))\n",
    "print(\"predictions on test data\",pred)\n",
    "\n",
    "predicted_class_indices = np.argmax(pred,axis=1)\n",
    "print(\"predicted_class_indices\",predicted_class_indices)"
   ]
  },
  {
   "cell_type": "code",
   "execution_count": 115,
   "metadata": {},
   "outputs": [
    {
     "data": {
      "text/plain": [
       "1250"
      ]
     },
     "execution_count": 115,
     "metadata": {},
     "output_type": "execute_result"
    }
   ],
   "source": [
    "#assigning corresponding labels to test data\n",
    "labels = (train_generator.class_indices)\n",
    "labels = dict((v,k) for k,v in labels.items())\n",
    "predictions = [labels[k] for k in predicted_class_indices]\n",
    "len(predictions)"
   ]
  },
  {
   "cell_type": "code",
   "execution_count": 116,
   "metadata": {},
   "outputs": [
    {
     "name": "stdout",
     "output_type": "stream",
     "text": [
      "       FileName Predictions\n",
      "0  76528282.jpg          26\n",
      "1  13689463.jpg          34\n",
      "2  77606856.jpg          17\n",
      "3  35148993.jpg          34\n",
      "4  69622618.jpg           7\n"
     ]
    }
   ],
   "source": [
    "#creating dataframe with filename and prediction values\n",
    "filenames = test_generator.filenames\n",
    "#len(filenames)\n",
    "results = pd.DataFrame({\"FileName\":filenames, \"Predictions\":predictions})\n",
    "print(results.head(5))"
   ]
  },
  {
   "cell_type": "code",
   "execution_count": 117,
   "metadata": {},
   "outputs": [
    {
     "name": "stdout",
     "output_type": "stream",
     "text": [
      "Working directory /home/akarunakaran1/BotanistData\n"
     ]
    }
   ],
   "source": [
    "print(\"Working directory\",os.getcwd())\n",
    "\n",
    "#save result\n",
    "results.to_csv(\"testdata_prediction.csv\",index=False)"
   ]
  },
  {
   "cell_type": "code",
   "execution_count": 121,
   "metadata": {},
   "outputs": [
    {
     "data": {
      "text/html": [
       "<div>\n",
       "<style scoped>\n",
       "    .dataframe tbody tr th:only-of-type {\n",
       "        vertical-align: middle;\n",
       "    }\n",
       "\n",
       "    .dataframe tbody tr th {\n",
       "        vertical-align: top;\n",
       "    }\n",
       "\n",
       "    .dataframe thead th {\n",
       "        text-align: right;\n",
       "    }\n",
       "</style>\n",
       "<table border=\"1\" class=\"dataframe\">\n",
       "  <thead>\n",
       "    <tr style=\"text-align: right;\">\n",
       "      <th></th>\n",
       "      <th>FileName</th>\n",
       "      <th>Label</th>\n",
       "    </tr>\n",
       "  </thead>\n",
       "  <tbody>\n",
       "    <tr>\n",
       "      <th>12805</th>\n",
       "      <td>76528282.jpg</td>\n",
       "      <td>11</td>\n",
       "    </tr>\n",
       "    <tr>\n",
       "      <th>19020</th>\n",
       "      <td>13689463.jpg</td>\n",
       "      <td>34</td>\n",
       "    </tr>\n",
       "    <tr>\n",
       "      <th>22850</th>\n",
       "      <td>77606856.jpg</td>\n",
       "      <td>17</td>\n",
       "    </tr>\n",
       "    <tr>\n",
       "      <th>37423</th>\n",
       "      <td>35148993.jpg</td>\n",
       "      <td>33</td>\n",
       "    </tr>\n",
       "    <tr>\n",
       "      <th>37330</th>\n",
       "      <td>69622618.jpg</td>\n",
       "      <td>7</td>\n",
       "    </tr>\n",
       "  </tbody>\n",
       "</table>\n",
       "</div>"
      ],
      "text/plain": [
       "           FileName Label\n",
       "12805  76528282.jpg    11\n",
       "19020  13689463.jpg    34\n",
       "22850  77606856.jpg    17\n",
       "37423  35148993.jpg    33\n",
       "37330  69622618.jpg     7"
      ]
     },
     "execution_count": 121,
     "metadata": {},
     "output_type": "execute_result"
    }
   ],
   "source": [
    "test_df.head(5)"
   ]
  },
  {
   "cell_type": "code",
   "execution_count": 119,
   "metadata": {},
   "outputs": [
    {
     "data": {
      "text/plain": [
       "(1250, 3)"
      ]
     },
     "execution_count": 119,
     "metadata": {},
     "output_type": "execute_result"
    }
   ],
   "source": [
    "#find accuracy on testdata\n",
    "\n",
    "atcual_prediction = pd.merge(test_df, results, on='FileName')\n",
    "atcual_prediction.shape"
   ]
  },
  {
   "cell_type": "code",
   "execution_count": 120,
   "metadata": {},
   "outputs": [
    {
     "name": "stdout",
     "output_type": "stream",
     "text": [
      "0.8312\n"
     ]
    }
   ],
   "source": [
    "#find accuracy\n",
    "print(accuracy_score(atcual_prediction.Label, atcual_prediction.Predictions))\n"
   ]
  },
  {
   "cell_type": "code",
   "execution_count": 122,
   "metadata": {},
   "outputs": [],
   "source": [
    "#fit new model with more layers\n",
    "model1 = Sequential()\n",
    "model1.add(Conv2D(32, (3, 3), padding='same',input_shape=(32,32,3)))\n",
    "model1.add(Activation('relu'))\n",
    "model1.add(Conv2D(32, (3, 3)))\n",
    "model1.add(Activation('relu'))\n",
    "model1.add(MaxPooling2D(pool_size=(2, 2)))\n",
    "model1.add(Dropout(0.25))\n",
    "model1.add(MaxPooling2D(pool_size=(2, 2)))\n",
    "model1.add(Dropout(0.25))\n",
    "model1.add(Conv2D(64, (3, 3), padding='same'))\n",
    "model1.add(Activation('relu'))\n",
    "model1.add(Conv2D(64, (3, 3)))\n",
    "model1.add(Activation('relu'))\n",
    "model1.add(MaxPooling2D(pool_size=(2, 2)))\n",
    "model1.add(Dropout(0.25))\n",
    "model1.add(Flatten())\n",
    "model1.add(Dense(512))\n",
    "model1.add(Activation('relu'))\n",
    "model1.add(Dropout(0.5))\n",
    "#we have 38 label classes\n",
    "model1.add(Dense(38, activation='softmax'))\n",
    "\n",
    "# Compile model\n",
    "model1.compile(optimizers.RMSprop(lr=0.0002, decay=1e-6),\n",
    "               loss=\"categorical_crossentropy\",metrics=[\"accuracy\"])"
   ]
  },
  {
   "cell_type": "code",
   "execution_count": 123,
   "metadata": {},
   "outputs": [
    {
     "name": "stderr",
     "output_type": "stream",
     "text": [
      "/home/akarunakaran1/.local/lib/python3.8/site-packages/tensorflow/python/keras/engine/training.py:1844: UserWarning: `Model.fit_generator` is deprecated and will be removed in a future version. Please use `Model.fit`, which supports generators.\n",
      "  warnings.warn('`Model.fit_generator` is deprecated and '\n"
     ]
    },
    {
     "name": "stdout",
     "output_type": "stream",
     "text": [
      "Epoch 1/10\n",
      "1054/1054 [==============================] - 156s 147ms/step - loss: 3.1700 - accuracy: 0.1772 - val_loss: 2.3727 - val_accuracy: 0.3821\n",
      "Epoch 2/10\n",
      "1054/1054 [==============================] - 149s 141ms/step - loss: 2.1783 - accuracy: 0.3875 - val_loss: 1.6180 - val_accuracy: 0.5621\n",
      "Epoch 3/10\n",
      "1054/1054 [==============================] - 148s 140ms/step - loss: 1.6734 - accuracy: 0.5143 - val_loss: 1.3008 - val_accuracy: 0.6542\n",
      "Epoch 4/10\n",
      "1054/1054 [==============================] - 149s 141ms/step - loss: 1.4029 - accuracy: 0.5842 - val_loss: 1.1166 - val_accuracy: 0.6922\n",
      "Epoch 5/10\n",
      "1054/1054 [==============================] - 150s 143ms/step - loss: 1.2217 - accuracy: 0.6328 - val_loss: 0.9329 - val_accuracy: 0.7352\n",
      "Epoch 6/10\n",
      "1054/1054 [==============================] - 150s 142ms/step - loss: 1.0818 - accuracy: 0.6698 - val_loss: 0.9186 - val_accuracy: 0.7243\n",
      "Epoch 7/10\n",
      "1054/1054 [==============================] - 149s 141ms/step - loss: 0.9907 - accuracy: 0.6944 - val_loss: 0.7806 - val_accuracy: 0.7772\n",
      "Epoch 8/10\n",
      "1054/1054 [==============================] - 150s 143ms/step - loss: 0.9204 - accuracy: 0.7174 - val_loss: 0.6982 - val_accuracy: 0.7979\n",
      "Epoch 9/10\n",
      "1054/1054 [==============================] - 148s 141ms/step - loss: 0.8705 - accuracy: 0.7300 - val_loss: 0.6701 - val_accuracy: 0.8048\n",
      "Epoch 10/10\n",
      "1054/1054 [==============================] - 147s 140ms/step - loss: 0.8149 - accuracy: 0.7501 - val_loss: 0.6194 - val_accuracy: 0.8230\n"
     ]
    },
    {
     "data": {
      "text/plain": [
       "<tensorflow.python.keras.callbacks.History at 0x7f4de0223ee0>"
      ]
     },
     "execution_count": 123,
     "metadata": {},
     "output_type": "execute_result"
    }
   ],
   "source": [
    "#setting values\n",
    "STEP_SIZE_TRAIN = train_generator.n//train_generator.batch_size\n",
    "STEP_SIZE_VALID = valid_generator.n//valid_generator.batch_size\n",
    "\n",
    "#fitting the model\n",
    "model1.fit_generator(generator=train_generator,steps_per_epoch=STEP_SIZE_TRAIN,\n",
    "                    validation_data=valid_generator,validation_steps=STEP_SIZE_VALID,epochs=10)"
   ]
  },
  {
   "cell_type": "code",
   "execution_count": 124,
   "metadata": {},
   "outputs": [
    {
     "name": "stderr",
     "output_type": "stream",
     "text": [
      "/home/akarunakaran1/.local/lib/python3.8/site-packages/tensorflow/python/keras/engine/training.py:1877: UserWarning: `Model.evaluate_generator` is deprecated and will be removed in a future version. Please use `Model.evaluate`, which supports generators.\n",
      "  warnings.warn('`Model.evaluate_generator` is deprecated and '\n"
     ]
    },
    {
     "name": "stdout",
     "output_type": "stream",
     "text": [
      "Test loss: 0.6202677488327026\n",
      "Test accuracy: 0.8226495981216431\n"
     ]
    }
   ],
   "source": [
    "#evaluate against validation data\n",
    "score = model1.evaluate_generator(generator=valid_generator,steps=STEP_SIZE_VALID)\n",
    "print('Test loss:', score[0])\n",
    "print('Test accuracy:', score[1])"
   ]
  },
  {
   "cell_type": "code",
   "execution_count": 125,
   "metadata": {},
   "outputs": [
    {
     "name": "stdout",
     "output_type": "stream",
     "text": [
      "  1/625 [..............................] - ETA: 1:14"
     ]
    },
    {
     "name": "stderr",
     "output_type": "stream",
     "text": [
      "/home/akarunakaran1/.local/lib/python3.8/site-packages/tensorflow/python/keras/engine/training.py:1905: UserWarning: `Model.predict_generator` is deprecated and will be removed in a future version. Please use `Model.predict`, which supports generators.\n",
      "  warnings.warn('`Model.predict_generator` is deprecated and '\n"
     ]
    },
    {
     "name": "stdout",
     "output_type": "stream",
     "text": [
      "625/625 [==============================] - 5s 7ms/step\n",
      "1250\n",
      "predictions on test data [[1.43880767e-04 1.42836943e-02 4.40297216e-01 ... 3.51437158e-03\n",
      "  3.33768189e-01 4.99110785e-04]\n",
      " [2.40372564e-03 1.50626793e-05 6.91432087e-03 ... 4.47757542e-03\n",
      "  2.05724942e-03 3.98780576e-05]\n",
      " [5.00525115e-03 4.18799800e-07 8.73054450e-05 ... 1.84918725e-04\n",
      "  3.20935069e-05 1.11485417e-06]\n",
      " ...\n",
      " [1.04129940e-05 3.03051165e-05 5.36562547e-05 ... 1.09939417e-03\n",
      "  4.88062142e-06 1.31222407e-06]\n",
      " [8.94228094e-07 8.33474278e-01 9.19489656e-03 ... 3.15876445e-04\n",
      "  1.57263167e-02 6.73807785e-03]\n",
      " [1.37353018e-09 1.05127285e-07 1.92731076e-09 ... 6.90359059e-07\n",
      "  7.48440920e-10 3.01349843e-08]]\n",
      "predicted_class_indices [ 2 25  8 ...  7  1 31]\n"
     ]
    }
   ],
   "source": [
    "#prediction\n",
    "pred = model1.predict_generator(test_generator,steps=STEP_SIZE_TEST,verbose=1)\n",
    "print(len(pred))\n",
    "print(\"predictions on test data\",pred)\n",
    "\n",
    "predicted_class_indices = np.argmax(pred,axis=1)\n",
    "print(\"predicted_class_indices\",predicted_class_indices)"
   ]
  },
  {
   "cell_type": "code",
   "execution_count": 126,
   "metadata": {},
   "outputs": [
    {
     "data": {
      "text/plain": [
       "1250"
      ]
     },
     "execution_count": 126,
     "metadata": {},
     "output_type": "execute_result"
    }
   ],
   "source": [
    "#assigning corresponding labels to test data\n",
    "labels = (train_generator.class_indices)\n",
    "labels = dict((v,k) for k,v in labels.items())\n",
    "predictions = [labels[k] for k in predicted_class_indices]\n",
    "len(predictions)"
   ]
  },
  {
   "cell_type": "code",
   "execution_count": 127,
   "metadata": {},
   "outputs": [
    {
     "name": "stdout",
     "output_type": "stream",
     "text": [
      "       FileName Predictions\n",
      "0  76528282.jpg          11\n",
      "1  13689463.jpg          32\n",
      "2  77606856.jpg          17\n",
      "3  35148993.jpg          34\n",
      "4  69622618.jpg           7\n"
     ]
    }
   ],
   "source": [
    "#creating dataframe with filename and prediction values\n",
    "filenames = test_generator.filenames\n",
    "#len(filenames)\n",
    "results1 = pd.DataFrame({\"FileName\":filenames, \"Predictions\":predictions})\n",
    "print(results1.head(5))"
   ]
  },
  {
   "cell_type": "code",
   "execution_count": 128,
   "metadata": {},
   "outputs": [
    {
     "name": "stdout",
     "output_type": "stream",
     "text": [
      "Working directory /home/akarunakaran1/BotanistData\n"
     ]
    }
   ],
   "source": [
    "print(\"Working directory\",os.getcwd())\n",
    "\n",
    "#save result\n",
    "results1.to_csv(\"testdata_prediction_newModel.csv\",index=False)"
   ]
  },
  {
   "cell_type": "code",
   "execution_count": 129,
   "metadata": {},
   "outputs": [
    {
     "data": {
      "text/html": [
       "<div>\n",
       "<style scoped>\n",
       "    .dataframe tbody tr th:only-of-type {\n",
       "        vertical-align: middle;\n",
       "    }\n",
       "\n",
       "    .dataframe tbody tr th {\n",
       "        vertical-align: top;\n",
       "    }\n",
       "\n",
       "    .dataframe thead th {\n",
       "        text-align: right;\n",
       "    }\n",
       "</style>\n",
       "<table border=\"1\" class=\"dataframe\">\n",
       "  <thead>\n",
       "    <tr style=\"text-align: right;\">\n",
       "      <th></th>\n",
       "      <th>FileName</th>\n",
       "      <th>Label</th>\n",
       "    </tr>\n",
       "  </thead>\n",
       "  <tbody>\n",
       "    <tr>\n",
       "      <th>12805</th>\n",
       "      <td>76528282.jpg</td>\n",
       "      <td>11</td>\n",
       "    </tr>\n",
       "    <tr>\n",
       "      <th>19020</th>\n",
       "      <td>13689463.jpg</td>\n",
       "      <td>34</td>\n",
       "    </tr>\n",
       "    <tr>\n",
       "      <th>22850</th>\n",
       "      <td>77606856.jpg</td>\n",
       "      <td>17</td>\n",
       "    </tr>\n",
       "    <tr>\n",
       "      <th>37423</th>\n",
       "      <td>35148993.jpg</td>\n",
       "      <td>33</td>\n",
       "    </tr>\n",
       "    <tr>\n",
       "      <th>37330</th>\n",
       "      <td>69622618.jpg</td>\n",
       "      <td>7</td>\n",
       "    </tr>\n",
       "  </tbody>\n",
       "</table>\n",
       "</div>"
      ],
      "text/plain": [
       "           FileName Label\n",
       "12805  76528282.jpg    11\n",
       "19020  13689463.jpg    34\n",
       "22850  77606856.jpg    17\n",
       "37423  35148993.jpg    33\n",
       "37330  69622618.jpg     7"
      ]
     },
     "execution_count": 129,
     "metadata": {},
     "output_type": "execute_result"
    }
   ],
   "source": [
    "test_df.head(5)"
   ]
  },
  {
   "cell_type": "code",
   "execution_count": 130,
   "metadata": {},
   "outputs": [
    {
     "data": {
      "text/plain": [
       "(1250, 3)"
      ]
     },
     "execution_count": 130,
     "metadata": {},
     "output_type": "execute_result"
    }
   ],
   "source": [
    "#find accuracy on testdata\n",
    "\n",
    "atcual_prediction1 = pd.merge(test_df, results1, on='FileName')\n",
    "atcual_prediction1.shape"
   ]
  },
  {
   "cell_type": "code",
   "execution_count": 131,
   "metadata": {},
   "outputs": [
    {
     "name": "stdout",
     "output_type": "stream",
     "text": [
      "0.8104\n"
     ]
    }
   ],
   "source": [
    "#find accuracy\n",
    "print(accuracy_score(atcual_prediction1.Label, atcual_prediction1.Predictions))\n"
   ]
  },
  {
   "cell_type": "code",
   "execution_count": null,
   "metadata": {},
   "outputs": [],
   "source": []
  },
  {
   "cell_type": "code",
   "execution_count": null,
   "metadata": {},
   "outputs": [],
   "source": []
  },
  {
   "cell_type": "markdown",
   "metadata": {},
   "source": [
    "#### REFERENCES:\n",
    "+ https://vijayabhaskar96.medium.com/tutorial-on-keras-flow-from-dataframe-1fd4493d237c\n",
    "+ https://www.kaggle.com/yassineghouzam/introduction-to-cnn-keras-0-997-top-6\n",
    "+ https://stackoverflow.com/questions/62218611/how-to-train-a-model-with-a-dataset-in-which-image-dataset-is-given-and-label-fo\n",
    "+ https://studymachinelearning.com/keras-imagedatagenerator-with-flow_from_dataframe/\n",
    "\n"
   ]
  }
 ],
 "metadata": {
  "kernelspec": {
   "display_name": "Python 3",
   "language": "python",
   "name": "python3"
  },
  "language_info": {
   "codemirror_mode": {
    "name": "ipython",
    "version": 3
   },
   "file_extension": ".py",
   "mimetype": "text/x-python",
   "name": "python",
   "nbconvert_exporter": "python",
   "pygments_lexer": "ipython3",
   "version": "3.8.5"
  }
 },
 "nbformat": 4,
 "nbformat_minor": 4
}
