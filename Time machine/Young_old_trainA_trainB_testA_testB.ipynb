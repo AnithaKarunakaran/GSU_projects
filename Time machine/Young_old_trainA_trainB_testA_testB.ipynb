{
 "cells": [
  {
   "cell_type": "markdown",
   "metadata": {},
   "source": [
    "# Implementing the code from \n",
    "https://machinelearningmastery.com/cyclegan-tutorial-with-keras/\n",
    "\n",
    "# read data from multiple subfolder and create sample for train and test"
   ]
  },
  {
   "cell_type": "code",
   "execution_count": 3,
   "metadata": {},
   "outputs": [],
   "source": [
    "from os import listdir\n",
    "from numpy import asarray\n",
    "from numpy import vstack\n",
    "from keras.preprocessing.image import img_to_array\n",
    "from keras.preprocessing.image import load_img\n",
    "from numpy import savez_compressed\n",
    "\n",
    "import glob\n",
    "import os"
   ]
  },
  {
   "cell_type": "code",
   "execution_count": 5,
   "metadata": {},
   "outputs": [],
   "source": [
    "# For young\n",
    "\n",
    "\n",
    "# Location with subdirectories\n",
    "my_path = \"C:/Users/akarunakaran1/Documents/TypeB_Time_Machine/TypeB_Time_Machine/Young/Young/\"\n",
    "# Location to move images to\n",
    "main_dir = \"C:/Users/akarunakaran1/Documents/TypeB_Time_Machine/TypeB_Time_Machine/TrainA_completeSet/\"\n",
    "\n",
    "# Get List of all images\n",
    "files = glob.glob(my_path + '/**/*.jpg', recursive=True)\n",
    "\n",
    "# For each image\n",
    "for file in files:\n",
    "    # Get File name and extension\n",
    "    filename = os.path.basename(file)\n",
    "    filename=filename[:-4].replace(\".\", \"-\") + \".jpg\"\n",
    "    #print(filename)\n",
    "    # Copy the file with os.rename\n",
    "    if not os.path.exists(os.path.join(main_dir, filename)):\n",
    "        os.rename(file, os.path.join(main_dir, filename))"
   ]
  },
  {
   "cell_type": "code",
   "execution_count": 6,
   "metadata": {},
   "outputs": [],
   "source": [
    "# For old\n",
    "\n",
    "\n",
    "# Location with subdirectories\n",
    "my_path = \"C:/Users/akarunakaran1/Documents/TypeB_Time_Machine/TypeB_Time_Machine/Old/Old/\"\n",
    "# Location to move images to\n",
    "main_dir = \"C:/Users/akarunakaran1/Documents/TypeB_Time_Machine/TypeB_Time_Machine/TrainB_completeSet/\"\n",
    "\n",
    "# Get List of all images\n",
    "files = glob.glob(my_path + '/**/*.jpg', recursive=True)\n",
    "\n",
    "# For each image\n",
    "for file in files:\n",
    "    # Get File name and extension\n",
    "    filename = os.path.basename(file)\n",
    "    filename=filename[:-4].replace(\".\", \"-\") + \".jpg\"\n",
    "    #print(filename)\n",
    "    # Copy the file with os.rename\n",
    "    if not os.path.exists(os.path.join(main_dir, filename)):\n",
    "        os.rename(file, os.path.join(main_dir, filename))"
   ]
  },
  {
   "cell_type": "markdown",
   "metadata": {},
   "source": [
    "+ Now copy from TrainA_completeSet and paste 1000 images into TrainA and 150 images into TestA\n",
    "+ Now copy from TrainB_completeSet and paste 1000 images into TrainB and 150 images into TestB"
   ]
  },
  {
   "cell_type": "code",
   "execution_count": 7,
   "metadata": {},
   "outputs": [
    {
     "name": "stdout",
     "output_type": "stream",
     "text": [
      "Loaded dataA:  (1150, 256, 256, 3)\n",
      "Loaded dataB:  (1150, 256, 256, 3)\n"
     ]
    }
   ],
   "source": [
    "# load all images in a directory into memory\n",
    "def load_images(path, size=(256,256)):\n",
    "\tdata_list = list()\n",
    "\t# enumerate filenames in directory, assume all are images\n",
    "\tfor filename in listdir(path):\n",
    "\t\t# load and resize the image\n",
    "\t\tpixels = load_img(path + filename, target_size=size)\n",
    "\t\t# convert to numpy array\n",
    "\t\tpixels = img_to_array(pixels)\n",
    "\t\t# store\n",
    "\t\tdata_list.append(pixels)\n",
    "\treturn asarray(data_list)\n",
    " \n",
    "# dataset path\n",
    "path = 'C:/Users/akarunakaran1/Documents/TypeB_Time_Machine/TypeB_Time_Machine/'\n",
    "# load dataset A\n",
    "dataA1 = load_images(path + 'TrainA/')\n",
    "dataAB = load_images(path + 'TestA/')\n",
    "dataA = vstack((dataA1, dataAB))\n",
    "print('Loaded dataA: ', dataA.shape)\n",
    "# load dataset B\n",
    "dataB1 = load_images(path + 'TrainB/')\n",
    "dataB2 = load_images(path + 'TestB/')\n",
    "dataB = vstack((dataB1, dataB2))\n",
    "print('Loaded dataB: ', dataB.shape)"
   ]
  },
  {
   "cell_type": "code",
   "execution_count": null,
   "metadata": {},
   "outputs": [],
   "source": []
  },
  {
   "cell_type": "markdown",
   "metadata": {},
   "source": [
    "# Reference\n",
    "+ https://stackoverflow.com/questions/55552537/how-to-retrieve-images-from-sub-folders-and-store-them-in-another-separate-folde"
   ]
  }
 ],
 "metadata": {
  "kernelspec": {
   "display_name": "Python 3",
   "language": "python",
   "name": "python3"
  },
  "language_info": {
   "codemirror_mode": {
    "name": "ipython",
    "version": 3
   },
   "file_extension": ".py",
   "mimetype": "text/x-python",
   "name": "python",
   "nbconvert_exporter": "python",
   "pygments_lexer": "ipython3",
   "version": "3.8.5"
  }
 },
 "nbformat": 4,
 "nbformat_minor": 4
}
